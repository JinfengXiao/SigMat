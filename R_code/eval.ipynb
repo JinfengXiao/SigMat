{
 "cells": [
  {
   "cell_type": "code",
   "execution_count": 2,
   "metadata": {
    "collapsed": false
   },
   "outputs": [
    {
     "name": "stdout",
     "output_type": "stream",
     "text": [
      "[1] 0.3052632\n"
     ]
    }
   ],
   "source": [
    "# This script evaluates the Success@K on the testing data.\n",
    "# Run under SigMat/R_code\n",
    "\n",
    "rm(list = ls())\n",
    "test_drug = unlist(read.table(\"../data/test/class_test.csv\", colClasses = \"character\"))\n",
    "pred_drug = as.matrix(read.table(\"../data/test/class_pred.csv\", sep = \",\", colClasses = \"character\"))\n",
    "if(nrow(pred_drug) == 1 ){\n",
    "  if(length(test_drug) == 1){ # Only 1 test sample\n",
    "    success = (test_drug[1] %in% pred_drug[1, ])\n",
    "  }\n",
    "  else{ # topK = 1\n",
    "    pred_drug = pred_drug[1, ]\n",
    "    success = sum(test_drug == pred_drug) / length(test_drug)\n",
    "  }\n",
    "}else{ # topK > 1\n",
    "  success = sum(apply(cbind(test_drug, pred_drug), 1, function(x){\n",
    "    x[1] %in% x[2:length(x)]\n",
    "  })) / length(test_drug)\n",
    "}\n",
    "\n",
    "print(success)\n"
   ]
  }
 ],
 "metadata": {
  "anaconda-cloud": {},
  "kernelspec": {
   "display_name": "R",
   "language": "R",
   "name": "ir"
  },
  "language_info": {
   "codemirror_mode": "r",
   "file_extension": ".r",
   "mimetype": "text/x-r-source",
   "name": "R",
   "pygments_lexer": "r",
   "version": "3.3.2"
  }
 },
 "nbformat": 4,
 "nbformat_minor": 1
}
